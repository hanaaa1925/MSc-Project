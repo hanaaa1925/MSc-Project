{
 "cells": [
  {
   "cell_type": "code",
   "execution_count": 15,
   "id": "exciting-covering",
   "metadata": {},
   "outputs": [],
   "source": [
    "import json\n",
    "import re\n",
    "from nltk.corpus import stopwords\n",
    "from nltk.stem import WordNetLemmatizer\n",
    "import pandas as pd\n",
    "from nltk import pos_tag\n",
    "from nltk.corpus import wordnet\n",
    "from nltk.tokenize import TweetTokenizer\n"
   ]
  },
  {
   "cell_type": "code",
   "execution_count": 16,
   "id": "remarkable-behalf",
   "metadata": {},
   "outputs": [],
   "source": [
    "data = pd.read_excel('./dataset.xlsx')"
   ]
  },
  {
   "cell_type": "code",
   "execution_count": 1,
   "id": "ethical-logic",
   "metadata": {},
   "outputs": [
    {
     "ename": "NameError",
     "evalue": "name 'WordNetLemmatizer' is not defined",
     "output_type": "error",
     "traceback": [
      "\u001b[0;31m---------------------------------------------------------------------------\u001b[0m",
      "\u001b[0;31mNameError\u001b[0m                                 Traceback (most recent call last)",
      "\u001b[0;32m<ipython-input-1-112dea00f6fc>\u001b[0m in \u001b[0;36m<module>\u001b[0;34m\u001b[0m\n\u001b[0;32m----> 1\u001b[0;31m \u001b[0mwnl\u001b[0m \u001b[0;34m=\u001b[0m \u001b[0mWordNetLemmatizer\u001b[0m\u001b[0;34m(\u001b[0m\u001b[0;34m)\u001b[0m\u001b[0;34m\u001b[0m\u001b[0;34m\u001b[0m\u001b[0m\n\u001b[0m\u001b[1;32m      2\u001b[0m \u001b[0mUSdict\u001b[0m \u001b[0;34m=\u001b[0m \u001b[0menchant\u001b[0m\u001b[0;34m.\u001b[0m\u001b[0mDict\u001b[0m\u001b[0;34m(\u001b[0m\u001b[0;34m\"en_US\"\u001b[0m\u001b[0;34m)\u001b[0m\u001b[0;34m\u001b[0m\u001b[0;34m\u001b[0m\u001b[0m\n\u001b[1;32m      3\u001b[0m \u001b[0mstoplist\u001b[0m \u001b[0;34m=\u001b[0m \u001b[0mset\u001b[0m\u001b[0;34m(\u001b[0m\u001b[0mstopwords\u001b[0m\u001b[0;34m.\u001b[0m\u001b[0mwords\u001b[0m\u001b[0;34m(\u001b[0m\u001b[0;34m'english'\u001b[0m\u001b[0;34m)\u001b[0m\u001b[0;34m)\u001b[0m\u001b[0;34m\u001b[0m\u001b[0;34m\u001b[0m\u001b[0m\n\u001b[1;32m      4\u001b[0m \u001b[0;34m\u001b[0m\u001b[0m\n\u001b[1;32m      5\u001b[0m \u001b[0;31m# 获取处理后的英文推特\u001b[0m\u001b[0;34m\u001b[0m\u001b[0;34m\u001b[0m\u001b[0;34m\u001b[0m\u001b[0m\n",
      "\u001b[0;31mNameError\u001b[0m: name 'WordNetLemmatizer' is not defined"
     ]
    }
   ],
   "source": [
    "wnl = WordNetLemmatizer()\n",
    "USdict = enchant.Dict(\"en_US\")\n",
    "stoplist = set(stopwords.words('english'))\n",
    "\n",
    "# 获取处理后的英文推特\n",
    "def get_tweets(filepath):\n",
    "    tweets = []\n",
    "    file = open(filepath, 'r')\n",
    "\n",
    "    # 去除链接\n",
    "    def remove_urls(vTEXT):\n",
    "        vTEXT = re.sub(r'(https|http)?:\\/\\/(\\w|\\.|\\/|\\?|\\=|\\&|\\%)*\\b', '', vTEXT, flags=re.MULTILINE)\n",
    "        return (vTEXT)\n",
    "\n",
    "    # 获取文本\n",
    "    for line in file.readlines():\n",
    "        dic = json.loads(line)\n",
    "        text = str(dic.get('text', '!'))\n",
    "        if judge_english(text):\n",
    "            tweets.append(remove_urls(text))\n",
    "\n",
    "    return tweets\n",
    "\n",
    "\n",
    "def get_word(text):\n",
    "    text = text.replace('.', ' ')\n",
    "    tknzr = TweetTokenizer(strip_handles=True, reduce_len=True)\n",
    "    rawwords = tknzr.tokenize(text)\n",
    "    words = [word.lower() for word in rawwords if USdict.check(word) and word.isalpha() and len(word) > 2]\n",
    "    return words\n",
    "\n",
    "\n",
    "# 词性还原\n",
    "def get_pos_word(words):\n",
    "    def get_wordnet_pos(tag):\n",
    "        if tag.startswith('J'):\n",
    "            return wordnet.ADJ\n",
    "        elif tag.startswith('V'):\n",
    "            return wordnet.VERB\n",
    "        elif tag.startswith('N'):\n",
    "            return wordnet.NOUN\n",
    "        elif tag.startswith('R'):\n",
    "            return wordnet.ADV\n",
    "        else:\n",
    "            return None\n",
    "\n",
    "    words = pos_tag(words)\n",
    "\n",
    "    pos_word = [wnl.lemmatize(tag[0], pos=get_wordnet_pos(tag[1]) or wordnet.NOUN) for tag in words]\n",
    "\n",
    "    # 停用词过滤\n",
    "    cleanwords = [word for word in pos_word if word not in stoplist]\n",
    "\n",
    "    return cleanwords\n",
    "\n",
    "\n",
    "if __name__ == '__main__':\n",
    "    tweets = get_tweets(data)\n",
    "\n",
    "    df = pd.DataFrame()\n",
    "    df['tweets'] = tweets\n",
    "    # 分词\n",
    "    df['tweets'] = df['tweets'].apply(get_word)\n",
    "    # 词形还原\n",
    "    df['tweets'] = df['tweets'].apply(get_pos_word)\n",
    "    # 删除tweets中的空列表\n",
    "    df = df[~(df['tweets'].str.len() == 0)]\n",
    "    # 将列表转换为字符串\n",
    "    df['tweets'] = df['tweets'].apply(lambda x: ' '.join(x))\n",
    "    # 保存文本\n",
    "    df.to_(storename, encoding='utf-8')\n"
   ]
  },
  {
   "cell_type": "code",
   "execution_count": null,
   "id": "blocked-brunswick",
   "metadata": {},
   "outputs": [],
   "source": []
  }
 ],
 "metadata": {
  "kernelspec": {
   "display_name": "Python 3",
   "language": "python",
   "name": "python3"
  },
  "language_info": {
   "codemirror_mode": {
    "name": "ipython",
    "version": 3
   },
   "file_extension": ".py",
   "mimetype": "text/x-python",
   "name": "python",
   "nbconvert_exporter": "python",
   "pygments_lexer": "ipython3",
   "version": "3.8.5"
  }
 },
 "nbformat": 4,
 "nbformat_minor": 5
}
